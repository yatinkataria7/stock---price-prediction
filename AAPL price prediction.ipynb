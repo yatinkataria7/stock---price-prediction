{
 "cells": [
  {
   "cell_type": "markdown",
   "metadata": {},
   "source": [
    "# 📘 AAPL Stock Forecasting using Technical Indicators & ML\n",
    "\n",
    "This notebook builds a complete stock price forecasting pipeline for Apple Inc. (AAPL) using:\n",
    "- Technical indicators (MACD, RSI, Bollinger Bands)\n",
    "- Machine learning models: Linear Regression and Random Forest\n",
    "- Data visualization and evaluation metrics\n",
    "\n",
    "\n"
   ]
  },
  {
   "cell_type": "code",
   "execution_count": null,
   "metadata": {},
   "outputs": [],
   "source": [
    "# ✅ Install required packages (for Google Colab only)\n",
    "!pip install yfinance scikit-learn matplotlib"
   ]
  },
  {
   "cell_type": "code",
   "execution_count": null,
   "metadata": {},
   "outputs": [],
   "source": [
    "# ✅ Import all necessary libraries\n",
    "import pandas as pd\n",
    "import numpy as np\n",
    "import matplotlib.pyplot as plt\n",
    "import yfinance as yf\n",
    "from sklearn.model_selection import train_test_split\n",
    "from sklearn.linear_model import LinearRegression\n",
    "from sklearn.ensemble import RandomForestRegressor\n",
    "from sklearn.metrics import mean_squared_error, mean_absolute_error"
   ]
  },
  {
   "cell_type": "markdown",
   "metadata": {},
   "source": [
    "## 1. 📥 Load Historical Data\n",
    "We will use Yahoo Finance to fetch the stock price of AAPL from January 2023 to December 2024."
   ]
  },
  {
   "cell_type": "code",
   "execution_count": null,
   "metadata": {},
   "outputs": [],
   "source": [
    "# Download AAPL stock data\n",
    "aapl = yf.download(\"AAPL\", start=\"2023-01-01\", end=\"2024-12-31\")\n",
    "aapl.reset_index(inplace=True)\n",
    "aapl = aapl[['Date', 'Open', 'High', 'Low', 'Close', 'Volume']]\n",
    "aapl.dropna(inplace=True)\n",
    "aapl = aapl.sort_values(\"Date\").reset_index(drop=True)\n",
    "aapl.head()"
   ]
  },
  {
   "cell_type": "markdown",
   "metadata": {},
   "source": [
    "## 2. 📊 Add Technical Indicators\n",
    "We will engineer several common indicators used in quantitative trading:\n",
    "- MACD (Moving Average Convergence Divergence)\n",
    "- RSI (Relative Strength Index)\n",
    "- Bollinger Bands"
   ]
  },
  {
   "cell_type": "code",
   "execution_count": null,
   "metadata": {},
   "outputs": [],
   "source": [
    "# MACD and Signal Line\n",
    "exp1 = aapl['Close'].ewm(span=12, adjust=False).mean()\n",
    "exp2 = aapl['Close'].ewm(span=26, adjust=False).mean()\n",
    "aapl['MACD'] = exp1 - exp2\n",
    "aapl['Signal_Line'] = aapl['MACD'].ewm(span=9, adjust=False).mean()\n",
    "\n",
    "# RSI (Relative Strength Index)\n",
    "delta = aapl['Close'].diff()\n",
    "gain = delta.where(delta > 0, 0).rolling(window=14).mean()\n",
    "loss = -delta.where(delta < 0, 0).rolling(window=14).mean()\n",
    "rs = gain / loss\n",
    "aapl['RSI'] = 100 - (100 / (1 + rs))\n",
    "\n",
    "# Bollinger Bands\n",
    "aapl['Middle_Band'] = aapl['Close'].rolling(window=20).mean()\n",
    "rolling_std = aapl['Close'].rolling(window=20).std()\n",
    "aapl['Upper_Band'] = aapl['Middle_Band'] + 2 * rolling_std\n",
    "aapl['Lower_Band'] = aapl['Middle_Band'] - 2 * rolling_std\n",
    "\n",
    "# Drop missing values due to rolling window\n",
    "aapl.dropna(inplace=True)\n",
    "aapl.tail()"
   ]
  },
  {
   "cell_type": "markdown",
   "metadata": {},
   "source": [
    "## 3. 📈 Visualize Indicators\n",
    "Charts help us understand market behavior and indicator responses visually."
   ]
  },
  {
   "cell_type": "code",
   "execution_count": null,
   "metadata": {},
   "outputs": [],
   "source": [
    "# MACD Plot\n",
    "plt.figure(figsize=(12, 4))\n",
    "plt.plot(aapl['Date'], aapl['MACD'], label='MACD')\n",
    "plt.plot(aapl['Date'], aapl['Signal_Line'], label='Signal Line')\n",
    "plt.title('MACD and Signal Line')\n",
    "plt.grid(True)\n",
    "plt.legend()\n",
    "plt.show()\n",
    "\n",
    "# RSI Plot\n",
    "plt.figure(figsize=(12, 4))\n",
    "plt.plot(aapl['Date'], aapl['RSI'], label='RSI', color='orange')\n",
    "plt.axhline(70, color='red', linestyle='--')\n",
    "plt.axhline(30, color='green', linestyle='--')\n",
    "plt.title('RSI Indicator')\n",
    "plt.grid(True)\n",
    "plt.legend()\n",
    "plt.show()\n",
    "\n",
    "# Bollinger Bands\n",
    "plt.figure(figsize=(12, 4))\n",
    "plt.plot(aapl['Date'], aapl['Close'], label='Close Price')\n",
    "plt.plot(aapl['Date'], aapl['Upper_Band'], label='Upper Band', linestyle='--')\n",
    "plt.plot(aapl['Date'], aapl['Lower_Band'], label='Lower Band', linestyle='--')\n",
    "plt.title('Bollinger Bands')\n",
    "plt.grid(True)\n",
    "plt.legend()\n",
    "plt.show()"
   ]
  },
  {
   "cell_type": "markdown",
   "metadata": {},
   "source": [
    "## 4. 🤖 Build Machine Learning Models\n",
    "We will predict the **Close** price using technical indicators and basic features."
   ]
  },
  {
   "cell_type": "code",
   "execution_count": null,
   "metadata": {},
   "outputs": [],
   "source": [
    "# Define features and target\n",
    "features = ['Open', 'High', 'Low', 'Volume', 'MACD', 'Signal_Line', 'RSI',\n",
    "            'Middle_Band', 'Upper_Band', 'Lower_Band']\n",
    "target = 'Close'\n",
    "\n",
    "# Split the data\n",
    "X = aapl[features]\n",
    "y = aapl[target]\n",
    "X_train, X_test, y_train, y_test = train_test_split(X, y, shuffle=False, test_size=0.2)\n",
    "\n",
    "# Initialize models\n",
    "lr = LinearRegression()\n",
    "rf = RandomForestRegressor(n_estimators=100, random_state=42)\n",
    "\n",
    "# Fit models\n",
    "lr.fit(X_train, y_train)\n",
    "rf.fit(X_train, y_train)\n",
    "\n",
    "# Predict\n",
    "lr_pred = lr.predict(X_test)\n",
    "rf_pred = rf.predict(X_test)"
   ]
  },
  {
   "cell_type": "markdown",
   "metadata": {},
   "source": [
    "## 5. 📉 Evaluate Model Performance\n",
    "We compare the actual and predicted values visually and calculate RMSE."
   ]
  },
  {
   "cell_type": "code",
   "execution_count": null,
   "metadata": {},
   "outputs": [],
   "source": [
    "# RMSE scores\n",
    "print(\"Linear Regression RMSE:\", mean_squared_error(y_test, lr_pred, squared=False))\n",
    "print(\"Random Forest RMSE:\", mean_squared_error(y_test, rf_pred, squared=False))\n",
    "\n",
    "# Plot Predictions\n",
    "plt.figure(figsize=(12, 6))\n",
    "plt.plot(y_test.values[:100], label='Actual Close')\n",
    "plt.plot(lr_pred[:100], label='Linear Regression')\n",
    "plt.plot(rf_pred[:100], label='Random Forest')\n",
    "plt.title('Actual vs Predicted Close Price (100 samples)')\n",
    "plt.xlabel('Time Index')\n",
    "plt.ylabel('Close Price')\n",
    "plt.grid(True)\n",
    "plt.legend()\n",
    "plt.show()"
   ]
  },
  {
   "cell_type": "markdown",
   "metadata": {},
   "source": [
    "---\n",
    "**Project Notes:**\n",
    "- Data Source: Yahoo Finance (via yFinance)\n",
    "- Models: Linear Regression, Random Forest\n",
    "- Indicators: MACD, RSI, Bollinger Bands\n",
    "- Created for educational/demo purposes\n",
    "\n"
   ]
  },
  {
   "cell_type": "markdown",
   "metadata": {},
   "source": []
  },
  {
   "cell_type": "markdown",
   "metadata": {},
   "source": []
  },
  {
   "cell_type": "markdown",
   "metadata": {},
   "source": []
  },
  {
   "cell_type": "markdown",
   "metadata": {},
   "source": []
  }
 ],
 "metadata": {
  "kernelspec": {
   "display_name": "Python 3",
   "language": "python",
   "name": "python3"
  },
  "language_info": {
   "name": "python",
   "version": "3.10"
  }
 },
 "nbformat": 4,
 "nbformat_minor": 2
}
